{
 "cells": [
  {
   "cell_type": "markdown",
   "id": "e880d1c6",
   "metadata": {},
   "source": [
    "# Assignment 3: Working with an ANN\n",
    "\n",
    "This assignment contributes (up to) 20 points (out of 100 possible) of the final grade.\n",
    "Please adhere the these rules while solving the assignment:\n",
    "* Please hand in only this jupyter notebook. If you work on your own computer make sure, it also works on the provided server.\n",
    "* Include the results, not only the code.\n",
    "* No changes above the respective task. The previous parts must not be changed for the current assignment. Use inheritance or copy the parts you want to change. But existing code can be called/used.\n",
    "* All explainintion/discussions in your own words.\n",
    "\n",
    "Some hints:\n",
    "* Start early, running the complete notebook can take hours\n",
    "* Too avoid having to \"babysit\" the notebook try to put each task in one single cell. So you do not need to pay attention when some intermediate results are finished, to be able to run the next cell before the \"idle timeout\" catches you.\n",
    "* Develop your code with a subset of the data, so you are quite confident, that the code executes completely.\n",
    "\n",
    "The assignment is based on the already known ANN (Week 10):"
   ]
  },
  {
   "cell_type": "code",
   "execution_count": 43,
   "id": "d6a50870",
   "metadata": {},
   "outputs": [],
   "source": [
    "import numpy\n",
    "# scipy.special for the sigmoid function expit()\n",
    "import scipy.special\n",
    "\n",
    "# class definition for the core structure\n",
    "class neuralNetwork:\n",
    "    \n",
    "    # initialise the neural network\n",
    "    def __init__(self, inputnodes, hiddennodes, outputnodes, learningrate):\n",
    "        # set number of nodes in each input, hidden, output layer\n",
    "        self.inodes = inputnodes\n",
    "        self.hnodes = hiddennodes\n",
    "        self.onodes = outputnodes\n",
    "        \n",
    "        # link weight matrices, wih and who\n",
    "        # weights inside the arrays are w_i_j, where link is from node i to node j in the next layer\n",
    "        # w11 w21\n",
    "        # w12 w22 etc \n",
    "        self.wih = numpy.random.normal(0.0, pow(self.inodes, -0.5), (self.hnodes, self.inodes))\n",
    "        self.who = numpy.random.normal(0.0, pow(self.hnodes, -0.5), (self.onodes, self.hnodes))\n",
    "\n",
    "        # learning rate\n",
    "        self.lr = learningrate\n",
    "        \n",
    "        # activation function is the sigmoid function\n",
    "        self.activation_function = lambda x: scipy.special.expit(x)\n",
    "        \n",
    "        pass\n",
    "\n",
    "\n",
    "    \n",
    "    # train the neural network\n",
    "    def train(self, inputs_list, targets_list):\n",
    "        # convert inputs list to 2d array\n",
    "        inputs = numpy.array(inputs_list, ndmin=2).T\n",
    "        targets = numpy.array(targets_list, ndmin=2).T\n",
    "        \n",
    "        # calculate signals into hidden layer\n",
    "        hidden_inputs = numpy.dot(self.wih, inputs)\n",
    "        # calculate the signals emerging from hidden layer\n",
    "        hidden_outputs = self.activation_function(hidden_inputs)\n",
    "        \n",
    "        # calculate signals into final output layer\n",
    "        final_inputs = numpy.dot(self.who, hidden_outputs)\n",
    "        # calculate the signals emerging from final output layer\n",
    "        final_outputs = self.activation_function(final_inputs)\n",
    "        \n",
    "        # output layer error is the (target - actual)\n",
    "        output_errors = targets - final_outputs\n",
    "        # hidden layer error is the output_errors, split by weights, recombined at hidden nodes\n",
    "        hidden_errors = numpy.dot(self.who.T, output_errors) \n",
    "        \n",
    "        # update the weights for the links between the hidden and output layers\n",
    "        self.who += self.lr * numpy.dot((output_errors * final_outputs * (1.0 - final_outputs)), numpy.transpose(hidden_outputs))\n",
    "        \n",
    "        # update the weights for the links between the input and hidden layers\n",
    "        self.wih += self.lr * numpy.dot((hidden_errors * hidden_outputs * (1.0 - hidden_outputs)), numpy.transpose(inputs))\n",
    "        \n",
    "        pass\n",
    "\n",
    "    \n",
    "    # query the neural network\n",
    "    def query(self, inputs_list):\n",
    "        # convert inputs list to 2d array\n",
    "        inputs = numpy.array(inputs_list, ndmin=2).T\n",
    "        \n",
    "        # calculate signals into hidden layer\n",
    "        hidden_inputs = numpy.dot(self.wih, inputs)\n",
    "        # calculate the signals emerging from hidden layer\n",
    "        hidden_outputs = self.activation_function(hidden_inputs)\n",
    "        \n",
    "        # calculate signals into final output layer\n",
    "        final_inputs = numpy.dot(self.who, hidden_outputs)\n",
    "        # calculate the signals emerging from final output layer\n",
    "        final_outputs = self.activation_function(final_inputs)\n",
    "        \n",
    "        return final_outputs"
   ]
  },
  {
   "cell_type": "markdown",
   "id": "92cad158",
   "metadata": {},
   "source": [
    "## Task 1: Get & run the full data set (2 Point)\n",
    "\n",
    "Get the full MNIST training & test dataset. Then train and test the ANN with the same settings as in the exercise (784 input nodes, 200 hidden nodes, 10 output nodes, learning rate 0.1, 5 epoch).\n",
    "\n",
    "Code:"
   ]
  },
  {
   "cell_type": "code",
   "execution_count": 44,
   "id": "cbcfd488",
   "metadata": {},
   "outputs": [],
   "source": [
    "import time\n",
    "def myfunction_task1(input_nodes, hidden_nodes, output_nodes, learning_rate, epochs, instance_name):\n",
    "    \n",
    "    t1 = time.time()                                                                # Starting time              \n",
    "    # number of input, hidden and output nodes\n",
    "    inp_nodes = input_nodes\n",
    "    hid_nodes = hidden_nodes\n",
    "    out_nodes = output_nodes\n",
    "\n",
    "    # learning rate\n",
    "    l_r = learning_rate                                                             # Learning rate value\n",
    "\n",
    "    # create instance of neural network\n",
    "    # I have used different name of every instance of neural network to prevent data overwriting!\n",
    "    instance_name = neuralNetwork(input_nodes,hidden_nodes,output_nodes, learning_rate)\n",
    "\n",
    "    # load the mnist training data CSV file into a list\n",
    "    training_data_file = open(\"mnist_train.csv\", 'r')\n",
    "    training_data_list = training_data_file.readlines()\n",
    "    training_data_file.close()\n",
    "\n",
    "\n",
    "    # train the neural network\n",
    "\n",
    "    # epochs is the number of times the training data set is used for training\n",
    "    epoch = 5                                          \n",
    "\n",
    "    for e in range(epochs):\n",
    "        # go through all records in the training data set\n",
    "        for record in training_data_list:\n",
    "            # split the record by the ',' commas\n",
    "            all_values = record.split(',')\n",
    "            # scale and shift the inputs\n",
    "            inputs = (numpy.asfarray(all_values[1:]) / 255.0 * 0.99) + 0.01\n",
    "            # create the target output values (all 0.01, except the desired label which is 0.99)\n",
    "            targets = numpy.zeros(output_nodes) + 0.01\n",
    "            # all_values[0] is the target label for this record\n",
    "            targets[int(all_values[0])] = 0.99\n",
    "            instance_name.train(inputs, targets)\n",
    "            pass\n",
    "        pass\n",
    "\n",
    "\n",
    "    # Loading the test data\n",
    "    # load the mnist test data CSV file into a list\n",
    "    test_data_file = open(\"mnist_test.csv\", 'r')\n",
    "    test_data_list = test_data_file.readlines()\n",
    "    test_data_file.close()\n",
    "\n",
    "    # scorecard for how well the network performs, initially empty\n",
    "    scorecard = []\n",
    "\n",
    "    # go through all the records in the test data set\n",
    "    for record in test_data_list:\n",
    "        # split the record by the ',' commas\n",
    "        all_values = record.split(',')\n",
    "        # correct answer is first value\n",
    "        correct_label = int(all_values[0])\n",
    "        # scale and shift the inputs\n",
    "        inputs = (numpy.asfarray(all_values[1:]) / 255.0 * 0.99) + 0.01\n",
    "        # query the network\n",
    "        outputs = instance_name.query(inputs)\n",
    "        # the index of the highest value corresponds to the label\n",
    "        label = numpy.argmax(outputs)\n",
    "        # append correct or incorrect to list\n",
    "        if (label == correct_label):\n",
    "            #print(f\"The number {label} was corrctly detected with a score of {outputs[label]}\")\n",
    "            # network's answer matches correct answer, add 1 to scorecard\n",
    "            scorecard.append(1)\n",
    "        else:\n",
    "            #print(f\"The number {label} was incorrctly detected with a score of {outputs[label]}, was {correct_label}\")\n",
    "            # network's answer doesn't match correct answer, add 0 to scorecard\n",
    "            scorecard.append(0)\n",
    "            pass\n",
    "\n",
    "        pass\n",
    "\n",
    "    # calculate the performance score, the fraction of correct answers\n",
    "    scorecard_array = numpy.asarray(scorecard)\n",
    "    print (\"Performance is = \", scorecard_array.sum() / scorecard_array.size)\n",
    "\n",
    "    t2 = time.time()                                                                    #Ending time\n",
    "    print('Time for the completing whole task:', round(t2-t1,2), 'seconds')"
   ]
  },
  {
   "cell_type": "code",
   "execution_count": 36,
   "id": "aa0ac5f4",
   "metadata": {},
   "outputs": [
    {
     "name": "stdout",
     "output_type": "stream",
     "text": [
      "Performance is =  0.9714\n",
      "Time for the completing whole task: 292.12 seconds\n"
     ]
    }
   ],
   "source": [
    "myfunction_task1(784, 200, 10, 0.1, 5, 'n_1')"
   ]
  },
  {
   "cell_type": "markdown",
   "id": "0ea861c3",
   "metadata": {},
   "source": [
    "**Note:** I have made a function for task 1 'myfunction_task1' because I have used this task 1 function in Task 6 also to run it and compare the results with task 6 results. "
   ]
  },
  {
   "cell_type": "markdown",
   "id": "91a4eccf",
   "metadata": {},
   "source": [
    "**Note:** All the examples in this Assignment were run on following configuration:\n",
    "intel(R) Core(TM) i7-10750H CPU @ 2.60GHz, 6 cores"
   ]
  },
  {
   "cell_type": "markdown",
   "id": "e3f09f38",
   "metadata": {},
   "source": [
    "Please give a short explanation (in your own words) of the differences in the \"performance\" (proportion of correct classifications) compared with the smaller dataset in the exercise:"
   ]
  },
  {
   "cell_type": "markdown",
   "id": "95984331",
   "metadata": {},
   "source": [
    "**ANSWER**\n",
    "\n",
    "(1) In smaller data, there was 0.6 performance rate whereas we got 0.9714 performance rate on larger data. Therefore, there is 62% increase in performance (proportion of correct classifications) when we use larger data.\n",
    "\n",
    "(2) Data size is a very crucial part of training neural networks. Larger datasets can help us better learn model parameters and improve the optimization process and imparts generalization. Because of large diversified data, this model is now more experienced and more generalized to new unseen data. Earlier it was only restricted to 600 therefore, it was not diversified. Large dataset helps us avoid overfitting and generalizes better as it captures the inherent data distribution more effectively."
   ]
  },
  {
   "cell_type": "markdown",
   "id": "49d71515",
   "metadata": {},
   "source": []
  },
  {
   "cell_type": "markdown",
   "id": "26d96003",
   "metadata": {},
   "source": [
    "## Task 2: Influence of the learning rate (2 Points)\n",
    "\n",
    "Test the influence of learning rates. Start with 0.01, 0.1, 0.2, 0.3, 0.4, 0.5, 0.7, 1.0. Other parameters are the same as in task 1.\n",
    "After the first (successful) run add two additional values to get a more detailed picture of the area with the best performance.\n",
    "Use a graph to visualize the result.\n",
    "\n",
    "Code:"
   ]
  },
  {
   "cell_type": "code",
   "execution_count": 6,
   "id": "b9fb5fa9",
   "metadata": {},
   "outputs": [],
   "source": [
    "###Function to plot graphs\n",
    "import matplotlib.pyplot as plt\n",
    "\n",
    "def myplot_function(m, n, x, y, z):\n",
    "    plt.plot(m,n, marker = 'o')                 # m and n are given x and y values respectively\n",
    "    plt.xlabel(x)                               # x is a name of X axis of graph\n",
    "    plt.ylabel(y)                               # y is a name of Y axis of graph \n",
    "    plt.title(z)                                # z is a title of the graph  \n",
    "    plt.show()"
   ]
  },
  {
   "cell_type": "code",
   "execution_count": 9,
   "id": "bc54f5e6",
   "metadata": {},
   "outputs": [
    {
     "name": "stdout",
     "output_type": "stream",
     "text": [
      "Learning rates are: [0.01, 0.1, 0.2, 0.3, 0.4, 0.5, 0.7, 1.0]\n",
      "Performance scorecard is: [0.9529, 0.9743, 0.9693, 0.9565, 0.9554, 0.9343, 0.8933, 0.8412]\n",
      "our Maximum performance is 0.9743\n"
     ]
    },
    {
     "data": {
      "image/png": "[encoded data removed]",
      "text/plain": [
       "<Figure size 432x288 with 1 Axes>"
      ]
     },
     "metadata": {
      "needs_background": "light"
     },
     "output_type": "display_data"
    },
    {
     "name": "stdout",
     "output_type": "stream",
     "text": [
      "Our maximum performance occurs at learning rate: 0.1 so we will put two additional values of learning rate around this in next cell.\n",
      "Time for the completing this task is: 2387.4115738868713 seconds\n"
     ]
    }
   ],
   "source": [
    "t3 = time.time()\n",
    "import matplotlib.pyplot as plt\n",
    "# number of input, hidden and output nodes\n",
    "input_nodes = 784\n",
    "hidden_nodes = 200\n",
    "output_nodes = 10\n",
    "\n",
    "learning_rate=[0.01, 0.1, 0.2, 0.3, 0.4, 0.5, 0.7, 1.0]                        # List of learning rate value           \n",
    "\n",
    "performace_scorecard = []\n",
    "\n",
    "for i in range(len(learning_rate)):\n",
    "    # create instance of neural network\n",
    "    # I have used different name of every instance of neural network to prevent data overwriting!\n",
    "    n_2 = neuralNetwork(input_nodes,hidden_nodes,output_nodes, learning_rate[i])\n",
    "\n",
    "    # load the mnist training data CSV file into a list\n",
    "    training_data_file = open(\"mnist_train.csv\", 'r')\n",
    "    training_data_list = training_data_file.readlines()\n",
    "    training_data_file.close()\n",
    "\n",
    "\n",
    "    # train the neural network\n",
    "\n",
    "    # epochs is the number of times the training data set is used for training\n",
    "    epochs = 5\n",
    "\n",
    "    for e in range(epochs):\n",
    "        # go through all records in the training data set\n",
    "        for record in training_data_list:\n",
    "            # split the record by the ',' commas\n",
    "            all_values = record.split(',')\n",
    "            # scale and shift the inputs\n",
    "            inputs = (numpy.asfarray(all_values[1:]) / 255.0 * 0.99) + 0.01\n",
    "            # create the target output values (all 0.01, except the desired label which is 0.99)\n",
    "            targets = numpy.zeros(output_nodes) + 0.01\n",
    "            # all_values[0] is the target label for this record\n",
    "            targets[int(all_values[0])] = 0.99\n",
    "            n_2.train(inputs, targets)\n",
    "            pass\n",
    "        pass\n",
    "\n",
    "    # Loading the test data\n",
    "    # load the mnist test data CSV file into a list\n",
    "    test_data_file = open(\"mnist_test.csv\", 'r')\n",
    "    test_data_list = test_data_file.readlines()\n",
    "    test_data_file.close()\n",
    "\n",
    "    # scorecard for how well the network performs, initially empty\n",
    "    scorecard = []\n",
    "\n",
    "    # go through all the records in the test data set\n",
    "    for record in test_data_list:\n",
    "        # split the record by the ',' commas\n",
    "        all_values = record.split(',')\n",
    "        # correct answer is first value\n",
    "        correct_label = int(all_values[0])\n",
    "        # scale and shift the inputs\n",
    "        inputs = (numpy.asfarray(all_values[1:]) / 255.0 * 0.99) + 0.01\n",
    "        # query the network\n",
    "        outputs = n_2.query(inputs)\n",
    "        # the index of the highest value corresponds to the label\n",
    "        label = numpy.argmax(outputs)\n",
    "        # append correct or incorrect to list\n",
    "        if (label == correct_label):\n",
    "            #print(f\"The number {label} was corrctly detected with a score of {outputs[label]}\")\n",
    "            # network's answer matches correct answer, add 1 to scorecard\n",
    "            scorecard.append(1)\n",
    "        else:\n",
    "            #print(f\"The number {label} was incorrctly detected with a score of {outputs[label]}, was {correct_label}\")\n",
    "            # network's answer doesn't match correct answer, add 0 to scorecard\n",
    "            scorecard.append(0)\n",
    "            pass\n",
    "\n",
    "        pass\n",
    "\n",
    "    # calculate the performance score, the fraction of correct answers\n",
    "    scorecard_array = numpy.asarray(scorecard)\n",
    "    #print (\"performance = \", scorecard_array.sum() / scorecard_array.size)\n",
    "    performance = scorecard_array.sum() / scorecard_array.size\n",
    "\n",
    "    performace_scorecard.append(performance)\n",
    "    \n",
    "print('Learning rates are:', learning_rate)\n",
    "print('Performance scorecard is:', performace_scorecard)\n",
    "\n",
    "max_value = max(performace_scorecard)\n",
    "print('our Maximum performance is', max_value)\n",
    "\n",
    "#Plotting a graph using 'myplot_function' function created above\n",
    "myplot_function(learning_rate, performace_scorecard, 'Learning rates', 'Performace', 'Learning rate Vs Performance graph!')\n",
    "\n",
    "max_value = max(performace_scorecard)\n",
    "max_index = performace_scorecard.index(max_value)\n",
    "print('Our maximum performance occurs at learning rate:', learning_rate[max_index], 'so we will put two additional values of learning rate around this in next cell.')\n",
    "\n",
    "t4 = time.time()\n",
    "print('Time for the completing this task is:', t4-t3, 'seconds')"
   ]
  },
  {
   "cell_type": "markdown",
   "id": "b560011c",
   "metadata": {},
   "source": [
    "**Note:** I have not rounded the time upto 2 decimal because in these task, I have only checked the time for my personal interest. I have rounded the time upto 2 decimal in task 1, 4, 5, and 6 because of the importance of the time.  "
   ]
  },
  {
   "cell_type": "code",
   "execution_count": 15,
   "id": "e0457747",
   "metadata": {},
   "outputs": [
    {
     "name": "stdout",
     "output_type": "stream",
     "text": [
      "Learning rates are: [0.01, 0.07, 0.1, 0.15, 0.2, 0.3, 0.4]\n",
      "Performance scorecard is: [0.9524, 0.9744, 0.9729, 0.972, 0.9685, 0.9588, 0.9479]\n"
     ]
    },
    {
     "data": {
      "image/png": "[encoded data removed]",
      "text/plain": [
       "<Figure size 432x288 with 1 Axes>"
      ]
     },
     "metadata": {
      "needs_background": "light"
     },
     "output_type": "display_data"
    },
    {
     "name": "stdout",
     "output_type": "stream",
     "text": [
      "Time for the task: 2124.470781326294 seconds\n"
     ]
    }
   ],
   "source": [
    "##### In this cell, two addtional learning rates are added around where maximum performance occured in above section.#####\n",
    "\n",
    "t5 = time.time()\n",
    "import matplotlib.pyplot as plt\n",
    "# number of input, hidden and output nodes\n",
    "input_nodes = 784\n",
    "hidden_nodes = 200\n",
    "output_nodes = 10\n",
    "\n",
    "learning_rate=[0.01, 0.07, 0.1, 0.15, 0.2, 0.3, 0.4]                       #0.07 and 0.15 are additional Learning rates\n",
    "# Learning rates '0.5', '0.7', '1.0' are removed due to low performance rates as already shown in Figure plotted above \n",
    "\n",
    "performace_scorecard_1 = []                                                # initializing 'performance_scorecard 'list which will store performance rate for this task\n",
    "\n",
    "for i in range(len(learning_rate)):\n",
    "    # create instance of neural network\n",
    "    # I have used different name of every instance of neural network to prevent data overwriting!\n",
    "    n_21 = neuralNetwork(input_nodes,hidden_nodes,output_nodes, learning_rate[i])\n",
    "\n",
    "    # load the mnist training data CSV file into a list\n",
    "    training_data_file = open(\"mnist_train.csv\", 'r')\n",
    "    training_data_list = training_data_file.readlines()\n",
    "    training_data_file.close()\n",
    "\n",
    "\n",
    "    # train the neural network\n",
    "\n",
    "    # epochs is the number of times the training data set is used for training\n",
    "    epochs = 5\n",
    "\n",
    "    for e in range(epochs):\n",
    "        # go through all records in the training data set\n",
    "        for record in training_data_list:\n",
    "            # split the record by the ',' commas\n",
    "            all_values = record.split(',')\n",
    "            # scale and shift the inputs\n",
    "            inputs = (numpy.asfarray(all_values[1:]) / 255.0 * 0.99) + 0.01\n",
    "            # create the target output values (all 0.01, except the desired label which is 0.99)\n",
    "            targets = numpy.zeros(output_nodes) + 0.01\n",
    "            # all_values[0] is the target label for this record\n",
    "            targets[int(all_values[0])] = 0.99\n",
    "            n_21.train(inputs, targets)\n",
    "            pass\n",
    "        pass\n",
    "\n",
    "    # Loading the test data\n",
    "    # load the mnist test data CSV file into a list\n",
    "    test_data_file = open(\"mnist_test.csv\", 'r')\n",
    "    test_data_list = test_data_file.readlines()\n",
    "    test_data_file.close()\n",
    "\n",
    "    # scorecard for how well the network performs, initially empty\n",
    "    scorecard = []\n",
    "\n",
    "    # go through all the records in the test data set\n",
    "    for record in test_data_list:\n",
    "        # split the record by the ',' commas\n",
    "        all_values = record.split(',')\n",
    "        # correct answer is first value\n",
    "        correct_label = int(all_values[0])\n",
    "        # scale and shift the inputs\n",
    "        inputs = (numpy.asfarray(all_values[1:]) / 255.0 * 0.99) + 0.01\n",
    "        # query the network\n",
    "        outputs = n_21.query(inputs)\n",
    "        # the index of the highest value corresponds to the label\n",
    "        label = numpy.argmax(outputs)\n",
    "        # append correct or incorrect to list\n",
    "        if (label == correct_label):\n",
    "            #print(f\"The number {label} was corrctly detected with a score of {outputs[label]}\")\n",
    "            # network's answer matches correct answer, add 1 to scorecard\n",
    "            scorecard.append(1)\n",
    "        else:\n",
    "            #print(f\"The number {label} was incorrctly detected with a score of {outputs[label]}, was {correct_label}\")\n",
    "            # network's answer doesn't match correct answer, add 0 to scorecard\n",
    "            scorecard.append(0)\n",
    "            pass\n",
    "\n",
    "        pass\n",
    "\n",
    "    # calculate the performance score, the fraction of correct answers\n",
    "    scorecard_array = numpy.asarray(scorecard)\n",
    "    #print (\"performance = \", scorecard_array.sum() / scorecard_array.size)\n",
    "    performance = scorecard_array.sum() / scorecard_array.size\n",
    "\n",
    "    performace_scorecard_1.append(performance)\n",
    "    \n",
    "print('Learning rates are:', learning_rate)\n",
    "print('Performance scorecard is:', performace_scorecard_1)\n",
    "\n",
    "#Plotting a graph using 'myplot_function' function created above\n",
    "myplot_function(learning_rate, performace_scorecard_1, 'Learning rates', 'Performace', 'Learning rate Vs Performance graph!')\n",
    "\n",
    "t6 = time.time()\n",
    "print('Time for the task:', t6-t5, 'seconds')  "
   ]
  },
  {
   "cell_type": "markdown",
   "id": "d308a88b",
   "metadata": {},
   "source": [
    "Try to give a short hypothesis why it behaves as observed:"
   ]
  },
  {
   "cell_type": "markdown",
   "id": "30dfbf87",
   "metadata": {},
   "source": [
    "**ANSWER:-**\n",
    "\n",
    "(1) The amount that the weights are updated during training is referred to as the step size or the “learning rate.” The learning rate hyperparameter controls the rate or speed at which the model learns. \n",
    "\n",
    "(2) In the first figure, our highest performance occurs at 0.1 and it starts decreasing. Therefore, in the next cell, two other learning rates 0.07 and 0.15 are added around 0.1 learning rate and later I cheked the performance. \n",
    "\n",
    "(3) In the second figure, now highest performance occurs at learning rate 0.07 and later, performance decreases gradually. Our worst performance, 0.9479 occurs on 0.4 learning rate. Second lowest performance occurs on 0.1 learning rate. \n",
    "\n",
    "(4) In first figure above, when learning rates increase from 0.07, performance decreases gradually. The reason behind it is, a learning rate that is too large will result in weight updates that will be too large and the performance of the model (such as its loss on the training dataset) will oscillate over training epochs. And large learning rate can cause the model to converge too quickly to a **suboptimal** solution. \n",
    "\n",
    "(5) In same Figure, When learning rate is below 0.07, that means on learning rate 0.01, performance decreases there also. This is because, a learning rate that is too small may never converge or may get stuck on a **suboptimal** solution."
   ]
  },
  {
   "cell_type": "markdown",
   "id": "437da501",
   "metadata": {},
   "source": []
  },
  {
   "cell_type": "markdown",
   "id": "b7166270",
   "metadata": {},
   "source": [
    "## Task 3: Influence of number of epochs (4 Point)\n",
    "\n",
    "Take five leaning rates from task 2, that had shown reasonable performance, and test each of them with 1, 3, 5, 10, 50 epochs.\n",
    "Visualize the results (e.g. a heatmap).\n",
    "\n",
    "Code:"
   ]
  },
  {
   "cell_type": "code",
   "execution_count": 16,
   "id": "2d9747a5",
   "metadata": {},
   "outputs": [
    {
     "name": "stdout",
     "output_type": "stream",
     "text": [
      "[0.01 0.07 0.1  0.15 0.2  0.3  0.4 ]\n",
      "[0.9524 0.9744 0.9729 0.972  0.9685 0.9588 0.9479]\n",
      "Top 5 learning rates are [0.07, 0.1, 0.15, 0.2, 0.3] which we will use to run next cell below.\n"
     ]
    }
   ],
   "source": [
    "#Finding 5 learning rates which has highest performance from previous task\n",
    "\n",
    "import numpy as np\n",
    "lr = np.array(learning_rate)\n",
    "performance = np.array(performace_scorecard_1)\n",
    "print(lr)\n",
    "print(performance)\n",
    "a = 5\n",
    "\n",
    "indices = (-performance).argsort()[:a]\n",
    "\n",
    "learning_rate = []\n",
    "for i in range(len(indices)):\n",
    "    le_ra = lr[indices[i]]\n",
    "    learning_rate.append(le_ra)\n",
    "\n",
    "learning_rate.sort()\n",
    "    \n",
    "print('Top 5 learning rates are', learning_rate, 'which we will use to run next cell below.')"
   ]
  },
  {
   "cell_type": "code",
   "execution_count": 17,
   "id": "591679af",
   "metadata": {},
   "outputs": [
    {
     "name": "stdout",
     "output_type": "stream",
     "text": [
      "performance scorecard for learning rate 0.07 is: [0.9489, 0.9736, 0.9768, 0.9755, 0.9708] for the Epoch 1, 3, 5, 10, 30 respectively\n",
      "performance scorecard for learning rate 0.1 is: [0.9545, 0.9719, 0.9752, 0.9725, 0.9645] for the Epoch 1, 3, 5, 10, 30 respectively\n",
      "performance scorecard for learning rate 0.15 is: [0.9595, 0.9707, 0.9723, 0.9702, 0.961] for the Epoch 1, 3, 5, 10, 30 respectively\n",
      "performance scorecard for learning rate 0.2 is: [0.9595, 0.9676, 0.9672, 0.9625, 0.9543] for the Epoch 1, 3, 5, 10, 30 respectively\n",
      "performance scorecard for learning rate 0.3 is: [0.9575, 0.9612, 0.9595, 0.9526, 0.9515] for the Epoch 1, 3, 5, 10, 30 respectively\n",
      "Time for the completing whole task: 15184.809830665588 seconds\n"
     ]
    }
   ],
   "source": [
    "import time\n",
    "import pandas as pd\n",
    "import numpy as np\n",
    "import seaborn as sns\n",
    "import matplotlib.pyplot as plt\n",
    "\n",
    "t9 = time.time()\n",
    "# number of input, hidden and output nodes\n",
    "input_nodes = 784\n",
    "hidden_nodes = 200\n",
    "output_nodes = 10\n",
    "\n",
    "epoch_time_testing = []                                                          #to store all time values (in seconds) in a single row\n",
    "oneD_array = []                                                                  #to store all performance values in a single row\n",
    "for i in range(len(learning_rate)):\n",
    "    performance_scorecard_2 = []                                                 #to store performance values of every learningr rate in a single row\n",
    "     \n",
    "    # create instance of neural network\n",
    "    # I have used different name of every instance of neural network to prevent data overwriting!\n",
    "    n_3 = neuralNetwork(input_nodes,hidden_nodes,output_nodes, learning_rate[i])\n",
    "\n",
    "    # load the mnist training data CSV file into a list\n",
    "    training_data_file = open(\"mnist_train.csv\", 'r')\n",
    "    training_data_list = training_data_file.readlines()\n",
    "    training_data_file.close()\n",
    "\n",
    "\n",
    "    # train the neural network\n",
    "\n",
    "    # epochs is the number of times the training data set is used for training\n",
    "    # I have changed epoch from '50' to epoch '30' in the 'epoch_test_container' below because after epoch 30, performance is degrading already and 50 epochs consumes more time as well.\n",
    "    epoch_test_container = [1, 3, 5, 10, 30]                                     # initializing every Epochs values in a list     \n",
    "    for j in range(len(epoch_test_container)):\n",
    "        epochs = epoch_test_container[j]\n",
    "        t7 = time.time()\n",
    "        for e in range(epochs):\n",
    "            # go through all records in the training data set\n",
    "            for record in training_data_list:\n",
    "                # split the record by the ',' commas\n",
    "                all_values = record.split(',')\n",
    "                # scale and shift the inputs\n",
    "                inputs = (numpy.asfarray(all_values[1:]) / 255.0 * 0.99) + 0.01\n",
    "                # create the target output values (all 0.01, except the desired label which is 0.99)\n",
    "                targets = numpy.zeros(output_nodes) + 0.01\n",
    "                # all_values[0] is the target label for this record\n",
    "                targets[int(all_values[0])] = 0.99\n",
    "                n_3.train(inputs, targets)\n",
    "                pass\n",
    "            pass\n",
    "\n",
    "        # Loading the test data\n",
    "        # load the mnist test data CSV file into a list\n",
    "        test_data_file = open(\"mnist_test.csv\", 'r')\n",
    "        test_data_list = test_data_file.readlines()\n",
    "        test_data_file.close()\n",
    "\n",
    "        # scorecard for how well the network performs, initially empty\n",
    "        scorecard = []\n",
    "\n",
    "        # go through all the records in the test data set\n",
    "        for record in test_data_list:\n",
    "            # split the record by the ',' commas\n",
    "            all_values = record.split(',')\n",
    "            # correct answer is first value\n",
    "            correct_label = int(all_values[0])\n",
    "            # scale and shift the inputs\n",
    "            inputs = (numpy.asfarray(all_values[1:]) / 255.0 * 0.99) + 0.01\n",
    "            # query the network\n",
    "            outputs = n_3.query(inputs)\n",
    "            # the index of the highest value corresponds to the label\n",
    "            label = numpy.argmax(outputs)\n",
    "            # append correct or incorrect to list\n",
    "            if (label == correct_label):\n",
    "                #print(f\"The number {label} was corrctly detected with a score of {outputs[label]}\")\n",
    "                # network's answer matches correct answer, add 1 to scorecard\n",
    "                scorecard.append(1)\n",
    "            else:\n",
    "                #print(f\"The number {label} was incorrctly detected with a score of {outputs[label]}, was {correct_label}\")\n",
    "                # network's answer doesn't match correct answer, add 0 to scorecard\n",
    "                scorecard.append(0)\n",
    "                pass\n",
    "\n",
    "            pass\n",
    "        \n",
    "        # calculate the performance score, the fraction of correct answers\n",
    "        scorecard_array = numpy.asarray(scorecard)\n",
    "        #print (\"performance = \", scorecard_array.sum() / scorecard_array.size)\n",
    "\n",
    "        performance = scorecard_array.sum() / scorecard_array.size\n",
    "\n",
    "        oneD_array.append(performance)                                         # storing performance values in an array\n",
    "        performance_scorecard_2.append(performance)                            # storing performance values in a scorecard array\n",
    "        t8 = time.time()\n",
    "        epoch_time_testing.append(t8-t7)                                       # storing testing time in an array\n",
    "    \n",
    "    print('performance scorecard for learning rate', learning_rate[i], 'is:', performance_scorecard_2, 'for the Epoch 1, 3, 5, 10, 30 respectively')   #performance for epochs[1, 3, 5, 10, 30]\n",
    "\n",
    "t10 = time.time()\n",
    "print('Time for the completing whole task:', t10-t9, 'seconds')        "
   ]
  },
  {
   "cell_type": "code",
   "execution_count": 18,
   "id": "8f07e4b8",
   "metadata": {},
   "outputs": [
    {
     "name": "stdout",
     "output_type": "stream",
     "text": [
      "Dataframe generated of performances from epochs and learning rates is as below\n",
      "           1       3       5      10      30\n",
      "0.07  0.9489  0.9736  0.9768  0.9755  0.9708\n",
      "0.10  0.9545  0.9719  0.9752  0.9725  0.9645\n",
      "0.15  0.9595  0.9707  0.9723  0.9702  0.9610\n",
      "0.20  0.9595  0.9676  0.9672  0.9625  0.9543\n",
      "0.30  0.9575  0.9612  0.9595  0.9526  0.9515\n"
     ]
    },
    {
     "data": {
      "image/png": "[encoded data removed]",
      "text/plain": [
       "<Figure size 720x720 with 2 Axes>"
      ]
     },
     "metadata": {
      "needs_background": "light"
     },
     "output_type": "display_data"
    }
   ],
   "source": [
    "###....Plotting a Heatmap to visulize the results....###\n",
    "import numpy as np\n",
    "import pandas as pd\n",
    "import seaborn as sns\n",
    "import matplotlib.pyplot as plt\n",
    "\n",
    "my_array = np.array(oneD_array)                                                        #Converting OneD_array from List to numpy array\n",
    "twoD_array = my_array.reshape(5,5)                                                     #Converting FROM One dimensional array TO two Dimensional array\n",
    "#print('Two Dimensional Array for performances is:', twoD_array)\n",
    "df1 = pd.DataFrame(twoD_array)                                                         #Converting two dimensional array into a Panda's Dataframe\n",
    "df1.columns = ['1', '3', '5', '10', '30']                                              #Writing a column names in a obtained Dataframe \n",
    "df1.index = (learning_rate)                                                            #Making 'index' column with a values of learning rates \n",
    "print('Dataframe generated of performances from epochs and learning rates is as below')\n",
    "print(df1)\n",
    "\n",
    "plt.figure(figsize=(10,10))                                                            #Setting siez 10 X 10 of a Heatmap \n",
    "df_heatmap = sns.heatmap(df1, annot=True, cmap=\"Greens\")                               #Passing Dataframe in a Heatmap syntax\n",
    "plt.title('Heatmap of performance rates with respect to epochs and learning rates', fontsize = 15) # title with fontsize 20\n",
    "plt.xlabel('Epochs', fontsize = 20)                                                    # x-axis label with fontsize 15\n",
    "plt.ylabel('learning rates', fontsize = 20)                                            # y-axis label with fontsize 15\n",
    "\n",
    "plt.show()"
   ]
  },
  {
   "cell_type": "code",
   "execution_count": 19,
   "id": "f61155eb",
   "metadata": {},
   "outputs": [
    {
     "name": "stdout",
     "output_type": "stream",
     "text": [
      "Dataframe generated of time (in seconds) taken by every epochs and learning rates is as below\n",
      "              1           3           5          10           30\n",
      "0.07  65.755208  193.881621  329.551640  646.044649  1936.669022\n",
      "0.10  66.721465  196.717407  324.353861  598.521381  1792.205680\n",
      "0.15  62.662712  184.246958  306.421028  609.586647  1831.129441\n",
      "0.20  62.968539  185.110576  306.824906  612.094738  1832.939854\n",
      "0.30  62.987599  185.337213  308.320397  614.116340  1868.230540\n"
     ]
    },
    {
     "data": {
      "image/png": "[encoded data removed]",
      "text/plain": [
       "<Figure size 720x720 with 2 Axes>"
      ]
     },
     "metadata": {
      "needs_background": "light"
     },
     "output_type": "display_data"
    }
   ],
   "source": [
    "###....Plotting a Heatmap to visulize the time taken to find performance by every epoch and learning rate....###\n",
    "import numpy as np\n",
    "import pandas as pd\n",
    "import seaborn as sns\n",
    "import matplotlib.pyplot as plt\n",
    "\n",
    "epoch_array = np.array(epoch_time_testing)                                 #Converting 'epoch_array' from List to numpy array\n",
    "epoch_twoD_array = epoch_array.reshape(5,5)                                #Converting FROM numpy One dimensional arraY TO numpy  two Dimensional array\n",
    "df2 = pd.DataFrame(epoch_twoD_array)                                       #Converting two dimensional array into a Panda's Dataframe\n",
    "df2.columns = ['1', '3', '5', '10', '30']\n",
    "df2.index = (learning_rate)\n",
    "print('Dataframe generated of time (in seconds) taken by every epochs and learning rates is as below')\n",
    "print(df2)\n",
    "\n",
    "plt.figure(figsize=(10,10))\n",
    "df_heatmap = sns.heatmap(df2, annot=True, cmap=\"Greens\")\n",
    "plt.title('Heatmap of time (in seconds) taken by every epochs and learning rates', fontsize = 15) # title with fontsize 20\n",
    "plt.xlabel('Epochs', fontsize = 20) # x-axis label with fontsize 15\n",
    "plt.ylabel('learning rates', fontsize = 20) # y-axis label with fontsize 15\n",
    "\n",
    "plt.show()"
   ]
  },
  {
   "cell_type": "markdown",
   "id": "aa682182",
   "metadata": {},
   "source": [
    "Discuss the observed results:"
   ]
  },
  {
   "cell_type": "markdown",
   "id": "c42312b3",
   "metadata": {},
   "source": [
    "**Observations:-**\n",
    "\n",
    "(1) I have chosen best 5 learning rate from task 3 and run this task using each learning rate with every epoch. \n",
    "\n",
    "(2) It can be noticed that, performance increases as number of epochs increases. As the heatmap of performance with respect to learning rate and epoch shows, our highest performance, 0.98 occurs at learning rate 0.07 learning rate with 5 and 10 epoch and 0.1 learning rate with 5 epoch. After 5 epoch, performance decreases again in epoch 10 except in learning rate 0.07 and in epoch 30. Worst performance, 0.95 can be seen in 0.07 learning rate & 1 epoch, 0.3 learning rate & 10 and 30 epoch, 0.2 learning rate and 30 epoch.\n",
    "\n",
    "(3) In the heatmap of performance with respect to learning rate and epoch, it can be seen that, epoch 10 takes almost double time to calculate than epoch 5 and still give same performance as epoch 5 gives. Therefore 0.07 learning rate and 5 epoch can be the best combination because it give highest performance in a comparatively less computing time.   "
   ]
  },
  {
   "cell_type": "markdown",
   "id": "23eed44c",
   "metadata": {},
   "source": []
  },
  {
   "cell_type": "markdown",
   "id": "65795816",
   "metadata": {},
   "source": [
    "## Task 4: Size of the hidden layer (3 Points)\n",
    "\n",
    "Get a good combination of learning rate and number of epochs from task 3 (good results, not too much computing time) and try at least 10 different sizes of the hidden layer in the range of 5 to 1000.\n",
    "Output the performance and the time the training and testing took.\n",
    "\n",
    "Code:"
   ]
  },
  {
   "cell_type": "code",
   "execution_count": 4,
   "id": "0581f2a8",
   "metadata": {},
   "outputs": [],
   "source": [
    "# ---> From above task, we can clearly see that, we got our best performance rate 0.98 for learning rate 0.07 while using epochs\n",
    "# 5 and 10 and on 0.1 and 5 as learning rate and epoch respectively. \n",
    "\n",
    "# ---> We can see in the time plot above that program takes double time to execute it with epoch 10 than with epoch 5. Moreover,\n",
    "# epoch 5 & epoch 10 both are giving same performance rate (0.98). Therefore using epoch 5 is less time consuming.\n",
    "\n",
    "# ---> As our best combination, I have chosen 0.07 and 5 as learning rate and epoch respectively which I have used below in a task 4. "
   ]
  },
  {
   "cell_type": "code",
   "execution_count": 5,
   "id": "b6f70f6f",
   "metadata": {},
   "outputs": [
    {
     "name": "stdout",
     "output_type": "stream",
     "text": [
      "-------------------------------------------------------------------------------------------------------\n",
      "performance for Hidden nodes 5 is: 0.7173\n",
      "training time for Hidden nodes 5 is: 44.34 seconds\n",
      "testing time for Hidden nodes 5 is: 1.31 seconds\n",
      "-------------------------------------------------------------------------------------------------------\n",
      "-------------------------------------------------------------------------------------------------------\n",
      "performance for Hidden nodes 50 is: 0.9589\n",
      "training time for Hidden nodes 50 is: 81.73 seconds\n",
      "testing time for Hidden nodes 50 is: 1.86 seconds\n",
      "-------------------------------------------------------------------------------------------------------\n",
      "-------------------------------------------------------------------------------------------------------\n",
      "performance for Hidden nodes 150 is: 0.9719\n",
      "training time for Hidden nodes 150 is: 130.81 seconds\n",
      "testing time for Hidden nodes 150 is: 1.94 seconds\n",
      "-------------------------------------------------------------------------------------------------------\n",
      "-------------------------------------------------------------------------------------------------------\n",
      "performance for Hidden nodes 300 is: 0.9736\n",
      "training time for Hidden nodes 300 is: 432.82 seconds\n",
      "testing time for Hidden nodes 300 is: 2.04 seconds\n",
      "-------------------------------------------------------------------------------------------------------\n",
      "-------------------------------------------------------------------------------------------------------\n",
      "performance for Hidden nodes 400 is: 0.9759\n",
      "training time for Hidden nodes 400 is: 542.9 seconds\n",
      "testing time for Hidden nodes 400 is: 2.14 seconds\n",
      "-------------------------------------------------------------------------------------------------------\n",
      "-------------------------------------------------------------------------------------------------------\n",
      "performance for Hidden nodes 500 is: 0.9765\n",
      "training time for Hidden nodes 500 is: 671.86 seconds\n",
      "testing time for Hidden nodes 500 is: 2.18 seconds\n",
      "-------------------------------------------------------------------------------------------------------\n",
      "-------------------------------------------------------------------------------------------------------\n",
      "performance for Hidden nodes 600 is: 0.9756\n",
      "training time for Hidden nodes 600 is: 752.6 seconds\n",
      "testing time for Hidden nodes 600 is: 2.11 seconds\n",
      "-------------------------------------------------------------------------------------------------------\n",
      "-------------------------------------------------------------------------------------------------------\n",
      "performance for Hidden nodes 700 is: 0.9745\n",
      "training time for Hidden nodes 700 is: 854.47 seconds\n",
      "testing time for Hidden nodes 700 is: 2.15 seconds\n",
      "-------------------------------------------------------------------------------------------------------\n",
      "-------------------------------------------------------------------------------------------------------\n",
      "performance for Hidden nodes 800 is: 0.975\n",
      "training time for Hidden nodes 800 is: 984.0 seconds\n",
      "testing time for Hidden nodes 800 is: 2.22 seconds\n",
      "-------------------------------------------------------------------------------------------------------\n",
      "-------------------------------------------------------------------------------------------------------\n",
      "performance for Hidden nodes 900 is: 0.9756\n",
      "training time for Hidden nodes 900 is: 1107.21 seconds\n",
      "testing time for Hidden nodes 900 is: 2.27 seconds\n",
      "-------------------------------------------------------------------------------------------------------\n",
      "-------------------------------------------------------------------------------------------------------\n",
      "performance for Hidden nodes 1000 is: 0.9746\n",
      "training time for Hidden nodes 1000 is: 1226.89 seconds\n",
      "testing time for Hidden nodes 1000 is: 2.29 seconds\n",
      "-------------------------------------------------------------------------------------------------------\n",
      "Summary of the task is as below,\n",
      "Learning rate is: 0.07\n",
      "Epichs is: 5\n",
      "Hidden nodes are: [5, 50, 150, 300, 400, 500, 600, 700, 800, 900, 1000]\n",
      "Performance scorecard is: [0.7173, 0.9589, 0.9719, 0.9736, 0.9759, 0.9765, 0.9756, 0.9745, 0.975, 0.9756, 0.9746]\n",
      "Training Time taken in seconds by Hidden layers according to different hidden nodes is: [44.34, 81.73, 130.81, 432.82, 542.9, 671.86, 752.6, 854.47, 984.0, 1107.21, 1226.89]\n",
      "Testing Time taken in seconds by Hidden layers according to different hidden nodes is: [1.31, 1.86, 1.94, 2.04, 2.14, 2.18, 2.11, 2.15, 2.22, 2.27, 2.29]\n",
      "Time for the completing whole task: 6852.31 seconds\n"
     ]
    }
   ],
   "source": [
    "#from above task (task 3), I have selected learning rate 0.07 and epoch 5 as a best combination.\n",
    "\n",
    "import pandas as pd\n",
    "import numpy as np\n",
    "import seaborn as sns\n",
    "import time\n",
    "\n",
    "t11 = time.time()\n",
    "# number of input, hidden and output nodes\n",
    "input_nodes = 784\n",
    "output_nodes = 10\n",
    "\n",
    "hidden_nodes = [5, 50, 150, 300, 400, 500, 600, 700, 800, 900, 1000]       # Container of Hidden layers as List          \n",
    "oneDime_array_trainingt = []                                               # initialization of list, which will store training time\n",
    "oneDime_array_testingt = []                                                # initialization of list, which will store testing time\n",
    "performace_scorecard_3 = []                                                # initialization of list, which will performance rates\n",
    "\n",
    "for k in range(len(hidden_nodes)):\n",
    "    # learning rate\n",
    "    learning_rate = 0.07\n",
    "\n",
    "    # create instance of neural network\n",
    "    # I have used different name of every instance of neural network to prevent data overwriting!\n",
    "    n_4 = neuralNetwork(input_nodes,hidden_nodes[k],output_nodes, learning_rate)\n",
    "    \n",
    "    t13 = time.time()\n",
    "    # load the mnist training data CSV file into a list\n",
    "    training_data_file = open(\"mnist_train.csv\", 'r')\n",
    "    training_data_list = training_data_file.readlines()\n",
    "    training_data_file.close()\n",
    "\n",
    "\n",
    "    # train the neural network\n",
    "\n",
    "    # epochs is the number of times the training data set is used for training\n",
    "    epochs = 5\n",
    "\n",
    "    for e in range(epochs):\n",
    "        # go through all records in the training data set\n",
    "        for record in training_data_list:\n",
    "            # split the record by the ',' commas\n",
    "            all_values = record.split(',')\n",
    "            # scale and shift the inputs\n",
    "            inputs = (numpy.asfarray(all_values[1:]) / 255.0 * 0.99) + 0.01\n",
    "            # create the target output values (all 0.01, except the desired label which is 0.99)\n",
    "            targets = numpy.zeros(output_nodes) + 0.01\n",
    "            # all_values[0] is the target label for this record\n",
    "            targets[int(all_values[0])] = 0.99\n",
    "            n_4.train(inputs, targets)\n",
    "            pass\n",
    "        pass\n",
    "    t14 = time.time()\n",
    "    # Loading the test data\n",
    "    # load the mnist test data CSV file into a list\n",
    "    test_data_file = open(\"mnist_test.csv\", 'r')\n",
    "    test_data_list = test_data_file.readlines()\n",
    "    test_data_file.close()\n",
    "\n",
    "    # scorecard for how well the network performs, initially empty\n",
    "    scorecard = []\n",
    "\n",
    "    # go through all the records in the test data set\n",
    "    for record in test_data_list:\n",
    "        # split the record by the ',' commas\n",
    "        all_values = record.split(',')\n",
    "        # correct answer is first value\n",
    "        correct_label = int(all_values[0])\n",
    "        # scale and shift the inputs\n",
    "        inputs = (numpy.asfarray(all_values[1:]) / 255.0 * 0.99) + 0.01\n",
    "        # query the network\n",
    "        outputs = n_4.query(inputs)\n",
    "        # the index of the highest value corresponds to the label\n",
    "        label = numpy.argmax(outputs)\n",
    "        # append correct or incorrect to list\n",
    "        if (label == correct_label):\n",
    "            #print(f\"The number {label} was corrctly detected with a score of {outputs[label]}\")\n",
    "            # network's answer matches correct answer, add 1 to scorecard\n",
    "            scorecard.append(1)\n",
    "        else:\n",
    "            #print(f\"The number {label} was incorrctly detected with a score of {outputs[label]}, was {correct_label}\")\n",
    "            # network's answer doesn't match correct answer, add 0 to scorecard\n",
    "            scorecard.append(0)\n",
    "            pass\n",
    "\n",
    "        pass\n",
    "\n",
    "    # calculate the performance score, the fraction of correct answers\n",
    "    scorecard_array = numpy.asarray(scorecard)\n",
    "    performance = scorecard_array.sum() / scorecard_array.size\n",
    "    performace_scorecard_3.append(performance)\n",
    "    print('-------------------------------------------------------------------------------------------------------')\n",
    "    print (\"performance for Hidden nodes\",hidden_nodes[k], 'is:', performance)\n",
    "    t15 = time.time()\n",
    "    print('training time for Hidden nodes',hidden_nodes[k], 'is:', round(t14-t13,2), 'seconds')\n",
    "    oneDime_array_trainingt.append(round(t14-t13,2))\n",
    "    print('testing time for Hidden nodes',hidden_nodes[k], 'is:', round(t15-t14,2), 'seconds')\n",
    "    oneDime_array_testingt.append(round(t15-t14,2))\n",
    "    print('-------------------------------------------------------------------------------------------------------')\n",
    "\n",
    "print('Summary of the task is as below,')\n",
    "print('Learning rate is:', learning_rate)\n",
    "print('Epichs is:', epochs)\n",
    "print('Hidden nodes are:', hidden_nodes)\n",
    "print('Performance scorecard is:', performace_scorecard_3)\n",
    "print('Training Time taken in seconds by Hidden layers according to different hidden nodes is:', oneDime_array_trainingt)\n",
    "print('Testing Time taken in seconds by Hidden layers according to different hidden nodes is:', oneDime_array_testingt)\n",
    "\n",
    "t12 = time.time()\n",
    "print('Time for the completing whole task:', round(t12-t11,2), 'seconds')"
   ]
  },
  {
   "cell_type": "code",
   "execution_count": 7,
   "id": "34ea09bb",
   "metadata": {},
   "outputs": [
    {
     "data": {
      "image/png": "[encoded data removed]",
      "text/plain": [
       "<Figure size 432x288 with 1 Axes>"
      ]
     },
     "metadata": {
      "needs_background": "light"
     },
     "output_type": "display_data"
    },
    {
     "data": {
      "image/png": "[encoded data removed]",
      "text/plain": [
       "<Figure size 432x288 with 1 Axes>"
      ]
     },
     "metadata": {
      "needs_background": "light"
     },
     "output_type": "display_data"
    },
    {
     "data": {
      "image/png": "[encoded data removed]",
      "text/plain": [
       "<Figure size 432x288 with 1 Axes>"
      ]
     },
     "metadata": {
      "needs_background": "light"
     },
     "output_type": "display_data"
    }
   ],
   "source": [
    "# plotting the graph of Hidden nodes Vs Performance\n",
    "myplot_function(hidden_nodes, performace_scorecard_3, 'Hidden nodes', 'Performance', 'Hidden_nodes Vs Performance graph')\n",
    "\n",
    "# plotting the graph of Hidden nodes Vs Training time(seconds)\n",
    "myplot_function(hidden_nodes, oneDime_array_trainingt, 'Hidden nodes', 'Training time (seconds)', 'Hidden nodes Vs Training time graph')\n",
    "\n",
    "# plotting the graph of Hidden nodes Vs Testing time(seconds)\n",
    "myplot_function(hidden_nodes, oneDime_array_testingt, 'Hidden nodes', 'Testing time (seconds)', 'Hidden nodes Vs Testing time')"
   ]
  },
  {
   "cell_type": "markdown",
   "id": "7fcbcc5c",
   "metadata": {},
   "source": [
    "Discuss the tradeoff between the performance (accuracy) of the ANN and the performance (computing time) observed:"
   ]
  },
  {
   "cell_type": "markdown",
   "id": "4d407e80",
   "metadata": {},
   "source": [
    "**Observation, and concluded points:-**\n",
    "\n",
    "(1) It can be observed that, performance increases when hidden nodes increases. In 'Hidden nodes vs Performance graph' above, it can be seen that 0.7173 performance achieved when using 5 number of hidden nodes. Performance becomes heigher when we use high number of hidden nodes. Highest performance is achieved on 500 hidden nodes, 0.9765 and it gives other performance around 0.9750 for remaining hidden nodes.\n",
    "\n",
    "(2) Computing time (Testing and Training time) also increases when number of nodes increases as it can be seen in 'Hidden nodes Vs Training time graph' and 'Hidden nodes vs Testing time graph'.\n",
    "\n",
    "(3) As the results shows, maximum performance occurs by using 500 hidden nodes. It takes lot of time to compute the performances for hidden nodes morethan 500, still it gives lower performance than we obtained using 500. Thus, it has no advantage to use morethan 500 hidden nodes as it gives the best result in comparatively less computing time."
   ]
  },
  {
   "cell_type": "markdown",
   "id": "59f47725",
   "metadata": {},
   "source": []
  },
  {
   "cell_type": "markdown",
   "id": "a808e46a",
   "metadata": {},
   "source": [
    "## Task 5: Other activation function (4 Points)\n",
    "\n",
    "Search for other possible activation functions and choose one (e.g. tanh). Implement this activation function in an ANN and compare it to our existing ANN using one set of parameters (utilize task 3 to chose a reasonable one).\n",
    "\n",
    "Code:"
   ]
  },
  {
   "cell_type": "code",
   "execution_count": 8,
   "id": "4f480c02",
   "metadata": {},
   "outputs": [],
   "source": [
    "import numpy\n",
    "\n",
    "# class definition for the core structure\n",
    "class neural_Network_:\n",
    "    \n",
    "    # initialise the neural network\n",
    "    def __init__(self, input_nodes, hidden_nodes, output_nodes, learning_rate_alpha):\n",
    "        # set number of nodes in each input, hidden, output layer\n",
    "        self.inpnodes = input_nodes\n",
    "        self.hidnodes = hidden_nodes\n",
    "        self.outnodes = output_nodes\n",
    "        \n",
    "        # link weight matrices, wih and who\n",
    "        # weights inside the arrays are w_i_j, where link is from node i to node j in the next layer\n",
    "        # w11 w21\n",
    "        # w12 w22 etc \n",
    "        self.winphid = numpy.random.normal(0.0, pow(self.inpnodes, -0.5), (self.hidnodes, self.inpnodes))\n",
    "        self.whidout = numpy.random.normal(0.0, pow(self.hidnodes, -0.5), (self.outnodes, self.hidnodes))\n",
    "\n",
    "        # learning rate\n",
    "        self.learningrate = learning_rate_alpha\n",
    "        \n",
    "        # activation function is the sigmoid function\n",
    "        #self.activation_func = lambda x: numpy.tanh(x)\n",
    "        \n",
    "        # ---> I have removed 'lambda x:' because 'numpy.tanh' is itself a function. Consequently this introduced an extra \n",
    "        # computational cost for absolutely no benefit. I have used 'numpy.tanh'.\n",
    "        self.activation_func = numpy.tanh\n",
    "        \n",
    "        pass\n",
    "\n",
    "\n",
    "    \n",
    "    # train the neural network\n",
    "    def train(self, inp_list, tar_list):\n",
    "        # convert inputs list to 2d array\n",
    "        inputs_i = numpy.array(inp_list, ndmin=2).T\n",
    "        targets_i = numpy.array(tar_list, ndmin=2).T\n",
    "        \n",
    "        # calculate signals into hidden layer\n",
    "        hid_inp = numpy.dot(self.winphid, inputs_i)\n",
    "        # calculate the signals emerging from hidden layer\n",
    "        hid_out = self.activation_func(hid_inp)\n",
    "        \n",
    "        # calculate signals into final output layer\n",
    "        final_inp = numpy.dot(self.whidout, hid_out)\n",
    "        # calculate the signals emerging from final output layer\n",
    "        final_out = self.activation_func(final_inp)\n",
    "        \n",
    "        # output layer error is the (target - actual)\n",
    "        out_err = targets_i - final_out\n",
    "        # hidden layer error is the output_errors, split by weights, recombined at hidden nodes\n",
    "        hid_err = numpy.dot(self.whidout.T, out_err) \n",
    "        \n",
    "        # update the weights for the links between the hidden and output layers\n",
    "        self.whidout += self.learningrate * numpy.dot(out_err * (1-(final_out)**2),numpy.transpose(hid_out))\n",
    "        \n",
    "        # update the weights for the links between the input and hidden layers\n",
    "        self.winphid += self.learningrate * numpy.dot(hid_err * (1-(hid_out)**2),numpy.transpose(inputs_i))\n",
    "        \n",
    "        pass\n",
    "\n",
    "    \n",
    "    # query the neural network\n",
    "    def query(self, inp_list):\n",
    "        # convert inputs list to 2d array\n",
    "        inputs_i = numpy.array(inp_list, ndmin=2).T\n",
    "        \n",
    "        # calculate signals into hidden layer\n",
    "        hid_inp = numpy.dot(self.winphid, inputs_i)\n",
    "        # calculate the signals emerging from hidden layer\n",
    "        hid_out = self.activation_func(hid_inp)\n",
    "        \n",
    "        # calculate signals into final output layer\n",
    "        final_inp = numpy.dot(self.whidout, hid_out)\n",
    "        # calculate the signals emerging from final output layer\n",
    "        final_out = self.activation_func(final_inp)\n",
    "        \n",
    "        return final_out"
   ]
  },
  {
   "cell_type": "code",
   "execution_count": 13,
   "id": "f6c2a62c",
   "metadata": {},
   "outputs": [],
   "source": [
    "import time\n",
    "import matplotlib.pyplot as plt\n",
    "import numpy\n",
    "\n",
    "def my_task5_function(inputnodes, hiddennodes, outputnodes, leanrningrate, epochsvalue, instance_name):\n",
    "    \n",
    "    t16 = time.time()\n",
    "    # number of input, hidden and output nodes\n",
    "    inp_nodes = inputnodes                                             # value of input layer nodes\n",
    "    hid_nodes = hiddennodes                                            # value of hidden layer nodes\n",
    "    out_nodes = outputnodes                                            # value of output layer nodes\n",
    "\n",
    "    # learning rate\n",
    "    my_task5_function.lr = leanrningrate                               # value of learning rate\n",
    "\n",
    "    # create instance of neural network\n",
    "    # I have used different name of every instance of neural network to prevent data overwriting!\n",
    "    instance_name = neural_Network_(inp_nodes,hid_nodes,out_nodes, leanrningrate)\n",
    "\n",
    "    # load the mnist training data CSV file into a list\n",
    "    training_data_file = open(\"mnist_train.csv\", 'r')\n",
    "    training_data_list = training_data_file.readlines()\n",
    "    training_data_file.close()\n",
    "\n",
    "\n",
    "    # train the neural network\n",
    "\n",
    "    # epochs is the number of times the training data set is used for training\n",
    "    epochs = epochsvalue                                               # value of epochs\n",
    "\n",
    "    for e in range(epochs):\n",
    "        # go through all records in the training data set\n",
    "        for record in training_data_list:\n",
    "            # split the record by the ',' commas\n",
    "            all_values = record.split(',')\n",
    "            # scale and shift the inputs\n",
    "            inputs = (numpy.asfarray(all_values[1:]) / 255.0 * 0.99) + 0.01\n",
    "            # create the target output values (all 0.01, except the desired label which is 0.99)\n",
    "            targets = numpy.zeros(out_nodes) + 0.01\n",
    "            # all_values[0] is the target label for this record\n",
    "            targets[int(all_values[0])] = 0.99\n",
    "            instance_name.train(inputs, targets)\n",
    "            pass\n",
    "        pass\n",
    "\n",
    "    # Loading the test data\n",
    "    # load the mnist test data CSV file into a list\n",
    "    test_data_file = open(\"mnist_test.csv\", 'r')\n",
    "    test_data_list = test_data_file.readlines()\n",
    "    test_data_file.close()\n",
    "\n",
    "    # scorecard for how well the network performs, initially empty\n",
    "    scorecard = []\n",
    "\n",
    "    # go through all the records in the test data set\n",
    "    for record in test_data_list:\n",
    "        # split the record by the ',' commas\n",
    "        all_values = record.split(',')\n",
    "        # correct answer is first value\n",
    "        correct_label = int(all_values[0])\n",
    "        # scale and shift the inputs\n",
    "        inputs_i = (numpy.asfarray(all_values[1:]) / 255.0 * 0.99) + 0.01\n",
    "        # query the network\n",
    "        outputs_o = instance_name.query(inputs_i)\n",
    "        # the index of the highest value corresponds to the label\n",
    "        label = numpy.argmax(outputs_o)\n",
    "        # append correct or incorrect to list\n",
    "        if (label == correct_label):\n",
    "            #print(f\"The number {label} was corrctly detected with a score of {outputs_o[label]}\")\n",
    "            # network's answer matches correct answer, add 1 to scorecard\n",
    "            scorecard.append(1)\n",
    "        else:\n",
    "            #print(f\"The number {label} was incorrctly detected with a score of {outputs_o[label]}, was {correct_label}\")\n",
    "            # network's answer doesn't match correct answer, add 0 to scorecard\n",
    "            scorecard.append(0)\n",
    "            pass\n",
    "\n",
    "        pass\n",
    "\n",
    "    # calculate the performance score, the fraction of correct answers\n",
    "    scorecard_array = numpy.asarray(scorecard)\n",
    "    #func.variable = lr_alpha\n",
    "    my_task5_function.performance = scorecard_array.sum() / scorecard_array.size\n",
    "    print('Learning rate is:', my_task5_function.lr)\n",
    "    print (\"performance = \", my_task5_function.performance)\n",
    "\n",
    "    t17 =  time.time()\n",
    "    print (\"Time taken to complete task is = \", round(t17-t16,2), 'seconds')\n",
    "    return my_task5_function.lr, my_task5_function.performance"
   ]
  },
  {
   "cell_type": "code",
   "execution_count": 14,
   "id": "0c683fef",
   "metadata": {
    "scrolled": true
   },
   "outputs": [
    {
     "name": "stdout",
     "output_type": "stream",
     "text": [
      "Learning rate is: 0.07\n",
      "performance =  0.8678\n",
      "Time taken to complete task is =  311.58 seconds\n"
     ]
    }
   ],
   "source": [
    "# here I have choosed 0.07 as learning rate because I got my best performance on this learning rate as we saw in task 3.\n",
    "my_task5_function(784, 200, 10, 0.07, 5, 'n_5')                   # choosing learning rate 0.07\n",
    "first_lr = my_task5_function.lr                                   # catching value of learning rate from function\n",
    "first_per = my_task5_function.performance                         # catching value of performance from function"
   ]
  },
  {
   "cell_type": "markdown",
   "id": "c1412d8f",
   "metadata": {},
   "source": [
    "We got our performance for 3 layer ANN by using best combination we got from task 3. Now I want to check performance of 3 \n",
    "layer neural network using different learning rate **0.01 and 0.01** and want to compare the performance that I have done in cells below. "
   ]
  },
  {
   "cell_type": "code",
   "execution_count": 16,
   "id": "cef72b53",
   "metadata": {},
   "outputs": [
    {
     "name": "stdout",
     "output_type": "stream",
     "text": [
      "Learning rate is: 0.01\n",
      "performance =  0.9353\n",
      "Time taken to complete task is =  312.4 seconds\n"
     ]
    }
   ],
   "source": [
    "my_task5_function(784, 200, 10, 0.01, 5, 'n_6')                    # choosing learning rate 0.01\n",
    "# here I have choosed 0.07 as learning rate because I got my best performance on this learning rate as we saw in task 3.\n",
    "second_lr = my_task5_function.lr                                   # catching value of learning rate from function\n",
    "second_per = my_task5_function.performance                         # catching value of performance from function"
   ]
  },
  {
   "cell_type": "code",
   "execution_count": 17,
   "id": "dfcde21e",
   "metadata": {
    "scrolled": true
   },
   "outputs": [
    {
     "name": "stdout",
     "output_type": "stream",
     "text": [
      "Learning rate is: 0.1\n",
      "performance =  0.2007\n",
      "Time taken to complete task is =  311.11 seconds\n"
     ]
    }
   ],
   "source": [
    "my_task5_function(784, 200, 10, 0.1, 5, 'n_7')                     # choosing learning rate 0.1\n",
    "# here I have choosed 0.07 as learning rate because I got my best performance on this learning rate as we saw in task 3.\n",
    "third_lr = my_task5_function.lr                                   # catching value of learning rate from function\n",
    "third_per = my_task5_function.performance                         # catching value of performance from function"
   ]
  },
  {
   "cell_type": "code",
   "execution_count": 19,
   "id": "136569f6",
   "metadata": {
    "scrolled": false
   },
   "outputs": [
    {
     "data": {
      "image/png": "[encoded data removed]",
      "text/plain": [
       "<Figure size 432x288 with 1 Axes>"
      ]
     },
     "metadata": {
      "needs_background": "light"
     },
     "output_type": "display_data"
    }
   ],
   "source": [
    "plt.plot(first_lr, first_per, marker = 'o')                       # plotting a point of first learning rate and performance  \n",
    "plt.plot(second_lr,second_per, marker = 'o')                      # plotting a point of second learning rate and performance\n",
    "plt.plot(third_lr,third_per, marker = 'o')                        # plotting a point of third learning rate and performance\n",
    "plt.xlabel('Learning rate')                                       # defining x axis label                     \n",
    "plt.ylabel('Performancne')                                        # defining y axis label                        \n",
    "plt.title('Learning rate vs Performance using \"tanh\" activation function')               \n",
    "plt.xlim(0, 0.15), plt.ylim(0, 1)\n",
    "plt.legend([\"Learning rate= 0.07\", \"Learning rate= 0.01\", \"Learning rate= 0.1\"], loc =\"upper right\")\n",
    "plt.show()"
   ]
  },
  {
   "cell_type": "markdown",
   "id": "decc8e33",
   "metadata": {},
   "source": [
    "What are your observations?\n",
    "\n",
    "Was the comparison fair? If not explain what needed to be done to make the comparison fair."
   ]
  },
  {
   "cell_type": "markdown",
   "id": "1ae011ad",
   "metadata": {},
   "source": [
    "**Observations:-**\n",
    "\n",
    "Activation function:-An activation function in a neural network defines how the weighted sum of the input is transformed into an output from a node or nodes in a layer of the network.\n",
    "\n",
    "I have taken 0.07 learning rate and 5 epochs for this task, because my maximum performance occurs at this combination. \n",
    "I have observed that, while using 'tanh' avtivation function and above parameters, performance is obtained 0.8678 which is less less than earlier 3 layer ANN with 'sigmoid' activation function which is 0.9768. Thus, comparision of both ANN, for this parameters, is not fair. \n",
    "\n",
    "**To make a Comparision fair:-**\n",
    "\n",
    "(1) Learning rate can be changed while using different activation function. Thus, it can give an improvement in the performance. For ex. I have changed learning rate 0.01 and 0.1 from 0.07 and it gives 0.9353, 0.2007 performance respectively for ANN using 'tanh'activation function. Here lower learning rates results into high performance and hence, it can be said that, different activation function requires different learning rate and epoch combination to make the performance better. \n",
    "\n",
    "(2) Another point is, we should check performance for every combination of learning rate and epoch and then we should findout our best combination according to the highest performance and time taken like we did in task 3. \n",
    "\n"
   ]
  },
  {
   "cell_type": "markdown",
   "id": "c72d913e",
   "metadata": {},
   "source": []
  },
  {
   "cell_type": "markdown",
   "id": "cdc1c0ba",
   "metadata": {},
   "source": [
    "## Task 6: More Layer (5 Points)\n",
    "\n",
    "Add a second hidden layer to our (original) neural network.    \n",
    "Compare the ANN with at least 5 different eamples to a three layer network with the same (total) number of hidden nodes. Choose the other parameters from your experience.\n",
    "\n",
    "Code:"
   ]
  },
  {
   "cell_type": "code",
   "execution_count": 39,
   "id": "214e6c0b",
   "metadata": {},
   "outputs": [],
   "source": [
    "import numpy\n",
    "# scipy.special for the sigmoid function expit()\n",
    "import scipy.special \n",
    "\n",
    "# class definition for the core structure\n",
    "class neuralNetwork2:\n",
    "    \n",
    "    # initialise the neural network\n",
    "    def __init__(self, inputnodes1, hiddennodes1, hiddennodes2, outputnodes1, learn_rate):\n",
    "        # set number of nodes in each input, hidden, output layer\n",
    "        self.ipnodes = inputnodes1\n",
    "        self.h1nodes = hiddennodes1\n",
    "        self.h2nodes = hiddennodes2\n",
    "        self.opnodes = outputnodes1\n",
    "        \n",
    "        # link weight matrices, wih and who\n",
    "        # weights inside the arrays are w_i_j, where link is from node i to node j in the next layer\n",
    "        # w11 w21\n",
    "        # w12 w22 etc \n",
    "        self.w_iphid1 = numpy.random.normal(0.0, pow(self.ipnodes, -0.5), (self.h1nodes, self.ipnodes))\n",
    "        self.w_hid1hid2 = numpy.random.normal(0.0, pow(self.h1nodes, -0.5), (self.h2nodes, self.h1nodes))\n",
    "        self.w_hid2op = numpy.random.normal(0.0, pow(self.h2nodes, -0.5), (self.opnodes, self.h2nodes))\n",
    "\n",
    "        # learning rate\n",
    "        self.learningrate1 = learn_rate\n",
    "        \n",
    "        # activation function is the sigmoid function\n",
    "        self.activation_function = lambda x: scipy.special.expit(x)\n",
    "        \n",
    "        pass\n",
    "\n",
    "\n",
    "    \n",
    "    # train the neural network\n",
    "    def train(self, ip_list, targetsvalue_list):\n",
    "        # convert inputs list to 2d array\n",
    "        ip_value = numpy.array(ip_list, ndmin=2).T\n",
    "        target_value = numpy.array(targetsvalue_list, ndmin=2).T\n",
    "        \n",
    "        # calculate signals into hidden layer1\n",
    "        hid1_ip = numpy.dot(self.w_iphid1, ip_value)\n",
    "        # calculate the signals emerging from hidden layer1\n",
    "        hid1_op = self.activation_function(hid1_ip)\n",
    "        \n",
    "        # calculate signals into hidden layer2\n",
    "        hid2_ip = numpy.dot(self.w_hid1hid2, hid1_op)\n",
    "        # calculate the signals emerging from hidden layer1\n",
    "        hid2_op = self.activation_function(hid2_ip)\n",
    "        \n",
    "        # calculate signals into final output layer\n",
    "        final_ip = numpy.dot(self.w_hid2op, hid2_op)\n",
    "        # calculate the signals emerging from final output layer\n",
    "        final_op = self.activation_function(final_ip)\n",
    "        \n",
    "        # output layer error is the (target - actual)\n",
    "        op_errors = target_value - final_op\n",
    "        \n",
    "        # hidden layer 2 error is the output_errors, split by weights, recombined at hidden nodes\n",
    "        hid2_errors = numpy.dot(self.w_hid2op.T, op_errors) \n",
    "        \n",
    "        # hidden layer 1 error is the output_errors, split by weights, recombined at hidden nodes\n",
    "        hid1_errors = numpy.dot(self.w_hid1hid2.T, hid2_errors)\n",
    "        \n",
    "        # update the weights for the links between the hidden layer 2 and output layers\n",
    "        self.w_hid2op += self.learningrate1 * numpy.dot((op_errors * final_op * (1.0 - final_op)), numpy.transpose(hid2_op))\n",
    "        \n",
    "        # update the weights for the links between the hidden layer 1 and hidden layer 2\n",
    "        self.w_hid1hid2 += self.learningrate1 * numpy.dot((hid2_errors * hid2_op * (1.0 - hid2_op)), numpy.transpose(hid1_op))\n",
    "        \n",
    "        # update the weights for the links between the input and hidden layers 1\n",
    "        self.w_iphid1 += self.learningrate1 * numpy.dot((hid1_errors * hid1_op * (1.0 - hid1_op)), numpy.transpose(ip_value))\n",
    "        \n",
    "        pass\n",
    "\n",
    "    \n",
    "    # query the neural network\n",
    "    def query(self, ip_list):\n",
    "        # convert inputs list to 2d array\n",
    "        ip_value = numpy.array(ip_list, ndmin=2).T\n",
    "        \n",
    "        # calculate signals into hidden layer 1\n",
    "        hid1_ip = numpy.dot(self.w_iphid1, ip_value)\n",
    "        # calculate the signals emerging from hidden layer\n",
    "        hid1_op = self.activation_function(hid1_ip)\n",
    "        \n",
    "        # calculate signals into hidden layer 2\n",
    "        hid2_ip = numpy.dot(self.w_hid1hid2, hid1_op)\n",
    "        # calculate the signals emerging from hidden layer\n",
    "        hid2_op = self.activation_function(hid2_ip)\n",
    "        \n",
    "        # calculate signals into final output layer\n",
    "        final_ip = numpy.dot(self.w_hid2op, hid2_op)\n",
    "        # calculate the signals emerging from final output layer\n",
    "        final_op = self.activation_function(final_ip)\n",
    "        \n",
    "        return final_op"
   ]
  },
  {
   "cell_type": "code",
   "execution_count": 40,
   "id": "5dd2bf2e",
   "metadata": {},
   "outputs": [],
   "source": [
    "import time \n",
    "\n",
    "def myfunction_task6(learningrate, epoch_task6, instance_name, combi1, combi2, combi3, combi4, combi5, combi6):\n",
    "    \n",
    "    hid_combi = [(combi1), (combi2), (combi3), (combi4), (combi5), (combi6)]  #container of hidden nodes combination as tuple\n",
    "\n",
    "    hidden_layer1_nodes = [x[0] for x in hid_combi]                           #storing first value of every combination in a List\n",
    "    hidden_layer2_nodes = [x[1] for x in hid_combi]                           #storing second value of every combination in a List\n",
    "\n",
    "    t20 = time.time()\n",
    "    # number of input and output nodes\n",
    "    inp_nodes = 784\n",
    "    oup_nodes = 10\n",
    "\n",
    "    # learning rate\n",
    "    lr = learningrate                                                         # value of learning rate\n",
    "\n",
    "    perfo_array_oneD = []                                                     # initialization of array which will store performances\n",
    "\n",
    "    for m in range(len(hid_combi)):   \n",
    "        # create instance of neural network\n",
    "        t22 = time.time()\n",
    "        \n",
    "        # I have used different name of every instance of neural network to prevent data overwriting!\n",
    "        instance_name = neuralNetwork2(inp_nodes,hidden_layer1_nodes[m],hidden_layer2_nodes[m],oup_nodes, lr)\n",
    "\n",
    "        # load the mnist training data CSV file into a list\n",
    "        training_data_file = open(\"mnist_train.csv\", 'r')\n",
    "        training_data_list = training_data_file.readlines()\n",
    "        training_data_file.close()\n",
    "\n",
    "\n",
    "        # train the neural network\n",
    "\n",
    "        # epochs is the number of times the training data set is used for training\n",
    "        epochs = epoch_task6                                                  # value of epochs\n",
    "\n",
    "        for e in range(epochs):\n",
    "            # go through all records in the training data set\n",
    "            for record in training_data_list:\n",
    "                # split the record by the ',' commas\n",
    "                all_values = record.split(',')\n",
    "                # scale and shift the inputs\n",
    "                ip_value = (numpy.asfarray(all_values[1:]) / 255.0 * 0.99) + 0.01\n",
    "                # create the target output values (all 0.01, except the desired label which is 0.99)\n",
    "                target_value = numpy.zeros(oup_nodes) + 0.01\n",
    "                # all_values[0] is the target label for this record\n",
    "                target_value[int(all_values[0])] = 0.99\n",
    "                instance_name.train(ip_value, target_value)\n",
    "                pass\n",
    "            pass\n",
    "\n",
    "        # Loading the test data\n",
    "        # load the mnist test data CSV file into a list\n",
    "        test_data_file = open(\"mnist_test.csv\", 'r')\n",
    "        test_data_list = test_data_file.readlines()\n",
    "        test_data_file.close()\n",
    "\n",
    "        # scorecard for how well the network performs, initially empty\n",
    "        scorecard = []\n",
    "\n",
    "        # go through all the records in the test data set\n",
    "        for record in test_data_list:\n",
    "            # split the record by the ',' commas\n",
    "            all_values = record.split(',')\n",
    "            # correct answer is first value\n",
    "            correct_label = int(all_values[0])\n",
    "            # scale and shift the inputs\n",
    "            ip_value = (numpy.asfarray(all_values[1:]) / 255.0 * 0.99) + 0.01\n",
    "            # query the network\n",
    "            op_value = instance_name.query(ip_value)\n",
    "            # the index of the highest value corresponds to the label\n",
    "            label = numpy.argmax(op_value)\n",
    "            # append correct or incorrect to list\n",
    "            if (label == correct_label):\n",
    "                #print(f\"The number {label} was corrctly detected with a score of {op_value[label]}\")\n",
    "                # network's answer matches correct answer, add 1 to scorecard\n",
    "                scorecard.append(1)\n",
    "            else:\n",
    "                #print(f\"The number {label} was incorrctly detected with a score of {op_value[label]}, was {correct_label}\")\n",
    "                # network's answer doesn't match correct answer, add 0 to scorecard\n",
    "                scorecard.append(0)\n",
    "                pass\n",
    "\n",
    "            pass\n",
    "\n",
    "        # calculate the performance score, the fraction of correct answers\n",
    "        scorecard_array = numpy.asarray(scorecard)\n",
    "        performance = scorecard_array.sum() / scorecard_array.size\n",
    "        #print (\"performance = \", performance)\n",
    "        perfo_array_oneD.append(performance)                                      # appending performance values into array\n",
    "        t23 = time.time()\n",
    "\n",
    "        print('-------------------------------------------------------------------------------')\n",
    "        print('Hidden Nodes in 1st and 2nd layer respectively:', hid_combi[m])\n",
    "        print('Performance is:', performance)\n",
    "        print('Time taken to calculate performance is:', round(t23 - t22,2))\n",
    "        print('-------------------------------------------------------------------------------')\n",
    "\n",
    "    \n",
    "    print('Learning rate is:', lr)\n",
    "    print('Epochs is:', epochs)\n",
    "    print('Hidden layer combination is:', hid_combi)\n",
    "    print('Performance accordingly given combination is:', perfo_array_oneD)\n",
    "    myfunction_task6.per = perfo_array_oneD\n",
    "    myfunction_task6.hid_combi = hid_combi\n",
    "\n",
    "    t21 = time.time()\n",
    "    print('Time to complete whole task is:', round(t21-t20,2), 'seconds.')\n",
    "    \n",
    "    return myfunction_task6.hid_combi, myfunction_task6.per\n",
    "\n"
   ]
  },
  {
   "cell_type": "code",
   "execution_count": 41,
   "id": "aa1cf92c",
   "metadata": {
    "scrolled": false
   },
   "outputs": [
    {
     "name": "stdout",
     "output_type": "stream",
     "text": [
      "-------------------------------------------------------------------------------\n",
      "Hidden Nodes in 1st and 2nd layer respectively: (300, 100)\n",
      "Performance is: 0.9528\n",
      "Time taken to calculate performance is: 426.46\n",
      "-------------------------------------------------------------------------------\n",
      "-------------------------------------------------------------------------------\n",
      "Hidden Nodes in 1st and 2nd layer respectively: (150, 50)\n",
      "Performance is: 0.9387\n",
      "Time taken to calculate performance is: 135.63\n",
      "-------------------------------------------------------------------------------\n",
      "-------------------------------------------------------------------------------\n",
      "Hidden Nodes in 1st and 2nd layer respectively: (200, 100)\n",
      "Performance is: 0.948\n",
      "Time taken to calculate performance is: 309.76\n",
      "-------------------------------------------------------------------------------\n",
      "-------------------------------------------------------------------------------\n",
      "Hidden Nodes in 1st and 2nd layer respectively: (120, 280)\n",
      "Performance is: 0.9423\n",
      "Time taken to calculate performance is: 146.01\n",
      "-------------------------------------------------------------------------------\n",
      "-------------------------------------------------------------------------------\n",
      "Hidden Nodes in 1st and 2nd layer respectively: (20, 180)\n",
      "Performance is: 0.8908\n",
      "Time taken to calculate performance is: 73.36\n",
      "-------------------------------------------------------------------------------\n",
      "-------------------------------------------------------------------------------\n",
      "Hidden Nodes in 1st and 2nd layer respectively: (50, 250)\n",
      "Performance is: 0.9227\n",
      "Time taken to calculate performance is: 104.2\n",
      "-------------------------------------------------------------------------------\n",
      "Learning rate is: 0.07\n",
      "Epochs is: 5\n",
      "Hidden layer combination is: [(300, 100), (150, 50), (200, 100), (120, 280), (20, 180), (50, 250)]\n",
      "Performance accordingly given combination is: [0.9528, 0.9387, 0.948, 0.9423, 0.8908, 0.9227]\n",
      "Time to complete whole task is: 1195.42 seconds.\n"
     ]
    },
    {
     "data": {
      "text/plain": [
       "([(300, 100), (150, 50), (200, 100), (120, 280), (20, 180), (50, 250)],\n",
       " [0.9528, 0.9387, 0.948, 0.9423, 0.8908, 0.9227])"
      ]
     },
     "execution_count": 41,
     "metadata": {},
     "output_type": "execute_result"
    }
   ],
   "source": [
    "# applying 0.01 learning rate in 4 Layer Neural Network to check its performance\n",
    "myfunction_task6(0.07, 5, 'n_8', (300,100), (150, 50), (200, 100), (120, 280), (20,180), (50, 250))"
   ]
  },
  {
   "cell_type": "markdown",
   "id": "96ac8cc7",
   "metadata": {},
   "source": [
    "What are your observations?\n",
    "\n",
    "Was the comparison fair? If not explain what needed to be done to make the comparison fair."
   ]
  },
  {
   "cell_type": "markdown",
   "id": "c626d7d8",
   "metadata": {},
   "source": [
    "**Obesrvation, Comparision and explaination:-**\n",
    "\n",
    "(1) I have observed and compare the performances of 4 and 3 layer ANN which I have shown below,\n",
    "    Learning rate 0.07\n",
    "    Epoch 5\n",
    "    \n",
    "    Hidden Nodes combination     Performance in 4 layer ANN  Performance in 3 layer ANN\n",
    "    (300,100)                     0.9528                     0.9759 with 400 nodes  (Got it from task 4)\n",
    "    (120,280)                     0.9423                     0.9759 with 400 nodes  (Got it from task 4)\n",
    "    (200,100)                     0.9480                     0.9736 with 300 nodes  (Got it from task 4)\n",
    "    (50,250)                      0.9227                     0.9736 with 300 nodes  (Got it from task 4)\n",
    "    (150,50)                      0.9287                     0.9768 with 200 nodes  (Got it from task 3)\n",
    "    (20,180)                      0.8908                     0.9768 with 200 nodes  (Got it from task 3)\n",
    "    \n",
    "(2) It can be concluded from above that, 4 layer ANN gives lesser performance than 3 layer ANN for 0.07 learning rate and 5    epoch. Therefore, comparision of 3 and 4 layer ANN is not fair. \n",
    "\n",
    "(3) The reason for less performance for 4 layer ANN is, there is one additional hidden layer added and therefore, activation function becomes more complicated in back-propogation and learning of ANN slows down significantly in earlier layers and model turns in overfitting.\n",
    "\n",
    "(4) Another observation is, for less number of hidden nodes in 1st layer than in 2nd layer takes less time to calculate the performance and also gives less performance as we can see the performance of hidden node combinations (120,280), (50,250), (20,180)."
   ]
  },
  {
   "cell_type": "markdown",
   "id": "536f7057",
   "metadata": {},
   "source": []
  },
  {
   "cell_type": "markdown",
   "id": "4705cd00",
   "metadata": {},
   "source": [
    "### Now I have choosed 0.01 learning rate for 3 and 4 layer neural network and have compared their performance below."
   ]
  },
  {
   "cell_type": "markdown",
   "id": "75f1ab29",
   "metadata": {},
   "source": [
    "Applying 0.01 learning rate in 4 Layer Neural Network to check its performance"
   ]
  },
  {
   "cell_type": "code",
   "execution_count": 42,
   "id": "0147a676",
   "metadata": {},
   "outputs": [
    {
     "name": "stdout",
     "output_type": "stream",
     "text": [
      "-------------------------------------------------------------------------------\n",
      "Hidden Nodes in 1st and 2nd layer respectively: (300, 100)\n",
      "Performance is: 0.9702\n",
      "Time taken to calculate performance is: 420.2\n",
      "-------------------------------------------------------------------------------\n",
      "-------------------------------------------------------------------------------\n",
      "Hidden Nodes in 1st and 2nd layer respectively: (150, 50)\n",
      "Performance is: 0.9689\n",
      "Time taken to calculate performance is: 135.68\n",
      "-------------------------------------------------------------------------------\n",
      "-------------------------------------------------------------------------------\n",
      "Hidden Nodes in 1st and 2nd layer respectively: (200, 100)\n",
      "Performance is: 0.9686\n",
      "Time taken to calculate performance is: 310.06\n",
      "-------------------------------------------------------------------------------\n",
      "-------------------------------------------------------------------------------\n",
      "Hidden Nodes in 1st and 2nd layer respectively: (120, 280)\n",
      "Performance is: 0.9662\n",
      "Time taken to calculate performance is: 145.48\n",
      "-------------------------------------------------------------------------------\n",
      "-------------------------------------------------------------------------------\n",
      "Hidden Nodes in 1st and 2nd layer respectively: (20, 180)\n",
      "Performance is: 0.9336\n",
      "Time taken to calculate performance is: 73.48\n",
      "-------------------------------------------------------------------------------\n",
      "-------------------------------------------------------------------------------\n",
      "Hidden Nodes in 1st and 2nd layer respectively: (50, 250)\n",
      "Performance is: 0.9583\n",
      "Time taken to calculate performance is: 105.21\n",
      "-------------------------------------------------------------------------------\n",
      "Learning rate is: 0.01\n",
      "Epochs is: 5\n",
      "Hidden layer combination is: [(300, 100), (150, 50), (200, 100), (120, 280), (20, 180), (50, 250)]\n",
      "Performance accordingly given combination is: [0.9702, 0.9689, 0.9686, 0.9662, 0.9336, 0.9583]\n",
      "Time to complete whole task is: 1190.12 seconds.\n"
     ]
    },
    {
     "data": {
      "text/plain": [
       "([(300, 100), (150, 50), (200, 100), (120, 280), (20, 180), (50, 250)],\n",
       " [0.9702, 0.9689, 0.9686, 0.9662, 0.9336, 0.9583])"
      ]
     },
     "execution_count": 42,
     "metadata": {},
     "output_type": "execute_result"
    }
   ],
   "source": [
    "\n",
    "\n",
    "myfunction_task6(0.01, 5, 'n_9', (300,100), (150, 50), (200, 100), (120, 280), (20,180), (50, 250))"
   ]
  },
  {
   "cell_type": "markdown",
   "id": "1b29e4d1",
   "metadata": {},
   "source": [
    "Applying 0.01 learning rate in 3 Layer Neural Network to check its performance"
   ]
  },
  {
   "cell_type": "code",
   "execution_count": 45,
   "id": "546d09b7",
   "metadata": {},
   "outputs": [
    {
     "name": "stdout",
     "output_type": "stream",
     "text": [
      "Performance is =  0.9537\n",
      "Time for the completing whole task: 287.34 seconds\n"
     ]
    }
   ],
   "source": [
    "\n",
    "\n",
    "myfunction_task1(784, 200, 10, 0.01, 5, 'n_10')"
   ]
  },
  {
   "cell_type": "code",
   "execution_count": 46,
   "id": "40527b7b",
   "metadata": {},
   "outputs": [
    {
     "name": "stdout",
     "output_type": "stream",
     "text": [
      "Performance is =  0.9522\n",
      "Time for the completing whole task: 400.46 seconds\n"
     ]
    }
   ],
   "source": [
    "myfunction_task1(784, 300, 10, 0.01, 5, 'n_11')"
   ]
  },
  {
   "cell_type": "code",
   "execution_count": 47,
   "id": "3bb6c462",
   "metadata": {},
   "outputs": [
    {
     "name": "stdout",
     "output_type": "stream",
     "text": [
      "Performance is =  0.9508\n",
      "Time for the completing whole task: 503.82 seconds\n"
     ]
    }
   ],
   "source": [
    "myfunction_task1(784, 400, 10, 0.01, 5, 'n_12')"
   ]
  },
  {
   "cell_type": "markdown",
   "id": "191a43cd",
   "metadata": {},
   "source": [
    "**Discussion:-**\n",
    "\n",
    "I have changed learning rate from 0.07 to 0.01 and compared the performance of 3 layer and 4 layer ANN which I have shown below,\n",
    "\n",
    "    Hidden Nodes combination    Performance in 4 layer ANN    Performance in 3 layer ANN\n",
    "    (300,100)                     0.9702                   0.9508 with 400 nodes  (Got it from running a function of task 1)\n",
    "    (120,280)                     0.9662                   0.9508 with 400 nodes  (Got it from running a function of task 1)\n",
    "    (200,100)                     0.9686                   0.9522 with 300 nodes  (Got it from running a function of task 1)\n",
    "    (50,250)                      0.9583                   0.9522 with 300 nodes  (Got it from running a function of task 1)\n",
    "    (150,50)                      0.9689                   0.9537 with 200 nodes  (Got it from running a function of task 1)\n",
    "    (20,180)                      0.9336                   0.9537 with 200 nodes  (Got it from running a function of task 1)\n",
    "    \n",
    "so from above results, we can see that, using 0.01 learning rate, performance improves for 4 layer ANN and shows higher than 3 layer ANN performance.  "
   ]
  },
  {
   "cell_type": "code",
   "execution_count": 48,
   "id": "40d53cde",
   "metadata": {},
   "outputs": [
    {
     "data": {
      "text/plain": [
       "<function matplotlib.pyplot.show(close=None, block=None)>"
      ]
     },
     "execution_count": 48,
     "metadata": {},
     "output_type": "execute_result"
    },
    {
     "data": {
      "image/png": "[encoded data removed]",
      "text/plain": [
       "<Figure size 432x288 with 1 Axes>"
      ]
     },
     "metadata": {
      "needs_background": "light"
     },
     "output_type": "display_data"
    }
   ],
   "source": [
    "#performance array of 4 layer ANN using 0.07 learning rate = [0.9528, 0.9387, 0.948, 0.9423, 0.8908, 0.9227]\n",
    "#performance array of 4 layer ANN using 0.01 learning rate = [0.9702, 0.9689, 0.9686, 0.9662, 0.9336, 0.9583]\n",
    "\n",
    "performanceArr1= [0.9528, 0.9387, 0.948, 0.9423, 0.8908, 0.9227]\n",
    "performanceArr2 = [0.9702, 0.9689, 0.9686, 0.9662, 0.9336, 0.9583]\n",
    "plt.plot(['(300, 100)', '(150, 50)', '(200, 100)', '(120, 280)', '(20, 180)', '(50, 250)'], performanceArr1, 'r', marker = 'o')\n",
    "plt.plot(['(300, 100)', '(150, 50)', '(200, 100)', '(120, 280)', '(20, 180)', '(50, 250)'], performanceArr2, 'g', marker = 'o')\n",
    "plt.xlabel('Hidden nodes combination')\n",
    "plt.ylabel('Performance')\n",
    "plt.legend([\"Learning rate= 0.07\", \"Learning rate= 0.01\"], loc =\"upper right\") \n",
    "plt.title('Performance of 4 layer ANN with respect to Hidden nodes combination and Learning rate')\n",
    "plt.show"
   ]
  },
  {
   "cell_type": "markdown",
   "id": "f68083f5",
   "metadata": {},
   "source": [
    "From above figure, it can be seen that, lower learning rate gives better performance when using two Hidden Layer in ANN."
   ]
  },
  {
   "cell_type": "markdown",
   "id": "7f622294",
   "metadata": {},
   "source": [
    "**Concluded points:-**\n",
    "\n",
    "(1) For this simple classification problem, 4 layer ANN does not give better performance than 3 layer ANN.\n",
    "\n",
    "(2) **To make the comparision fair**, lower learning rate must be chosen while using morethan one hidden layer ANN and hence, it can give the better performance than only one hidden layer ANN. Every possible combination of learning rate and epoch must be tried and should be checked the performance and time taken to findout the best combination according to the performance and time like we did in task 3.\n",
    "\n",
    "(3) 4 Layer ANN gives lower performance when using lower number of hidden nodes in 1st layer than in 2nd. Hence, hidden nodes in 1st layer must be heigher than in 2nd hidden layer to obtain higher performance. "
   ]
  }
 ],
 "metadata": {
  "kernelspec": {
   "display_name": "Python 3 (ipykernel)",
   "language": "python",
   "name": "python3"
  },
  "language_info": {
   "codemirror_mode": {
    "name": "ipython",
    "version": 3
   },
   "file_extension": ".py",
   "mimetype": "text/x-python",
   "name": "python",
   "nbconvert_exporter": "python",
   "pygments_lexer": "ipython3",
   "version": "3.9.7"
  }
 },
 "nbformat": 4,
 "nbformat_minor": 5
}
